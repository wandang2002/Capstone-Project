{
 "cells": [
  {
   "cell_type": "markdown",
   "metadata": {},
   "source": [
    "## Forecast HSR score"
   ]
  },
  {
   "cell_type": "markdown",
   "metadata": {},
   "source": [
    "#### Import packages"
   ]
  },
  {
   "cell_type": "code",
   "execution_count": 43,
   "metadata": {},
   "outputs": [],
   "source": [
    "import numpy as np\n",
    "import matplotlib.pyplot as plt\n",
    "import pandas as pd\n",
    "\n",
    "# SUPERVISED LEARNING IMPORT\n",
    "# scikit-learn imports\n",
    "from sklearn.pipeline import Pipeline\n",
    "from sklearn.impute import SimpleImputer\n",
    "from sklearn.preprocessing import StandardScaler\n",
    "from sklearn.linear_model import LogisticRegression, SGDClassifier\n",
    "from sklearn.svm import SVC\n",
    "from sklearn.ensemble import RandomForestClassifier, VotingClassifier\n",
    "from sklearn.model_selection import LeaveOneOut, cross_val_score, train_test_split\n",
    "from sklearn.model_selection import GridSearchCV\n",
    "from sklearn.feature_selection import RFECV\n",
    "# imbalanced-learn imports\n",
    "from imblearn.pipeline import Pipeline as ImbPipeline\n",
    "from imblearn.over_sampling import SMOTE\n",
    "\n",
    "# neural net import\n",
    "from sklearn.neural_network import MLPClassifier\n",
    "\n",
    "# UNSUPERVISED LEARNING\n",
    "from sklearn.impute import SimpleImputer\n",
    "from sklearn.preprocessing import RobustScaler\n",
    "from sklearn.decomposition import PCA\n",
    "from sklearn.manifold import TSNE\n",
    "from sklearn.cluster import KMeans, AgglomerativeClustering, DBSCAN\n",
    "from sklearn.mixture import GaussianMixture\n",
    "from sklearn.metrics import silhouette_score, calinski_harabasz_score, davies_bouldin_score\n",
    "from scipy.cluster.hierarchy import dendrogram, linkage"
   ]
  },
  {
   "cell_type": "markdown",
   "metadata": {},
   "source": [
    "## 1. Data preparation and feature engineering "
   ]
  },
  {
   "cell_type": "code",
   "execution_count": 3,
   "metadata": {},
   "outputs": [],
   "source": [
    "# Load dataset (adjust path if needed)\n",
    "try:\n",
    "    df = pd.read_csv('dataset/INDICATORS.csv')\n",
    "except:\n",
    "    df = pd.read_csv('INDICATORS.csv')"
   ]
  },
  {
   "cell_type": "code",
   "execution_count": 4,
   "metadata": {},
   "outputs": [
    {
     "name": "stdout",
     "output_type": "stream",
     "text": [
      "<class 'pandas.core.frame.DataFrame'>\n",
      "RangeIndex: 21 entries, 0 to 20\n",
      "Data columns (total 12 columns):\n",
      " #   Column         Non-Null Count  Dtype  \n",
      "---  ------         --------------  -----  \n",
      " 0   country_id     21 non-null     object \n",
      " 1   gdp_growth     21 non-null     float64\n",
      " 2   gdp_total      21 non-null     float64\n",
      " 3   gdp_pc         21 non-null     int64  \n",
      " 4   rail_km        21 non-null     int64  \n",
      " 5   hsr_km         21 non-null     int64  \n",
      " 6   pop_thousands  21 non-null     float64\n",
      " 7   pop_density    21 non-null     int64  \n",
      " 8   urban_rate     21 non-null     float64\n",
      " 9   ROI            21 non-null     float64\n",
      " 10  pas_demand     21 non-null     float64\n",
      " 11  success        21 non-null     int64  \n",
      "dtypes: float64(6), int64(5), object(1)\n",
      "memory usage: 2.1+ KB\n"
     ]
    }
   ],
   "source": [
    "# Rename target and columns\n",
    "if 'label success' in df.columns:\n",
    "    df = df.rename(columns={'label success': 'success'})\n",
    "df.columns = df.columns.str.strip()\n",
    "df = df.rename(columns = {\n",
    "    'gdp_growth_rate (billions of us dollars)': 'gdp_growth',\n",
    "    'gdp (percent change)': 'gdp_total',\n",
    "    'gdp_per_capita (us dollar per capita)':       'gdp_pc',\n",
    "    'rail lines (total route-km)':                 'rail_km',\n",
    "    'hsr_network_length':                          'hsr_km',\n",
    "    'total_population (thousands)':                'pop_thousands',\n",
    "    'population_density (people/square kilometer)': 'pop_density',\n",
    "    'urbanization_rate':                           'urban_rate',\n",
    "    'passenger demand (million)': 'pas_demand'\n",
    "})\n",
    "df.info()"
   ]
  },
  {
   "cell_type": "code",
   "execution_count": 5,
   "metadata": {},
   "outputs": [],
   "source": [
    "# If needed, convert numeric strings\n",
    "# df['rail_km'] = df['rail_km'].astype(str).str.replace(',', '', regex=False).astype(float)\n",
    "# df['hsr_km']      = pd.to_numeric(df['hsr_km'], errors='coerce')\n",
    "# df['gdp_growth']  = pd.to_numeric(df['gdp_growth'], errors='coerce')\n",
    "# df['urban_rate']  = pd.to_numeric(df['urban_rate'], errors='coerce')\n"
   ]
  },
  {
   "cell_type": "markdown",
   "metadata": {},
   "source": [
    "## 2. Feature engineering"
   ]
  },
  {
   "cell_type": "code",
   "execution_count": 6,
   "metadata": {},
   "outputs": [],
   "source": [
    "df['hsr_per_thousand'] = df['hsr_km'] / df['pop_thousands']\n",
    "df['rail_per_thousand'] = df['rail_km'] / df['pop_thousands']\n",
    "df['hsr_share'] = df['hsr_km'] / df['rail_km']\n",
    "df['gdp_pc_urban_interaction'] = df['gdp_pc'] * df['urban_rate']\n",
    "df['density_growth_interaction'] = df['pop_density'] * df['gdp_growth']"
   ]
  },
  {
   "cell_type": "markdown",
   "metadata": {},
   "source": [
    "## SUPERVISED LEARNING"
   ]
  },
  {
   "cell_type": "markdown",
   "metadata": {},
   "source": [
    "### 3. Define X and y"
   ]
  },
  {
   "cell_type": "code",
   "execution_count": 7,
   "metadata": {},
   "outputs": [],
   "source": [
    "features = [\n",
    "    'gdp_growth', 'gdp_total', 'gdp_pc',\n",
    "    'pop_density', 'urban_rate',\n",
    "    'hsr_per_thousand', 'rail_per_thousand',\n",
    "    'hsr_share', 'gdp_pc_urban_interaction',\n",
    "    'density_growth_interaction'\n",
    "]\n",
    "\n",
    "X = df[features]\n",
    "y = df['success']\n"
   ]
  },
  {
   "cell_type": "markdown",
   "metadata": {},
   "source": [
    "### 4. Pipelines and LOO-CV comparision"
   ]
  },
  {
   "cell_type": "code",
   "execution_count": 8,
   "metadata": {},
   "outputs": [],
   "source": [
    "loo = LeaveOneOut()\n",
    "\n",
    "pipe_lr = Pipeline([\n",
    "    ('impute', SimpleImputer(strategy='median')),\n",
    "    ('scale', StandardScaler()),\n",
    "    ('clf', LogisticRegression(penalty='l1', solver='liblinear',\n",
    "                               class_weight= 'balanced', max_iter = 1000))\n",
    "])\n",
    "\n",
    "pipe_smote_lr = ImbPipeline([\n",
    "    ('impute', SimpleImputer(strategy='median')),\n",
    "    ('scale', StandardScaler()),\n",
    "    ('smote', SMOTE(k_neighbors=3, random_state=0)),\n",
    "    ('clf', LogisticRegression(penalty='l1', solver='liblinear',\n",
    "                               max_iter=1000))\n",
    "])\n",
    "\n",
    "pipe_svm = Pipeline([\n",
    "    ('impute', SimpleImputer(strategy='median')),\n",
    "    ('scale', StandardScaler()),\n",
    "    ('clf', SVC(kernel='rbf', class_weight='balanced', probability= True))\n",
    "])\n",
    "\n",
    "pipe_rf = Pipeline([\n",
    "    ('impute', SimpleImputer(strategy='median')),\n",
    "    ('clf', RandomForestClassifier(n_estimators=200, max_depth=4,\n",
    "                                   class_weight='balanced', random_state=42))\n",
    "])\n",
    "\n",
    "voting = VotingClassifier(estimators=[\n",
    "    ('lr', pipe_smote_lr),\n",
    "    ('svm', pipe_svm),\n",
    "    ('rf', pipe_rf)\n",
    "], voting='soft')\n",
    "\n",
    "models = [\n",
    "    ('Logistic', pipe_lr),\n",
    "    ('SMOTE+Logistic', pipe_smote_lr),\n",
    "    ('SVM (RBF)', pipe_svm),\n",
    "    ('RandomForest', pipe_rf),\n",
    "    ('VotingEnsemble', voting)\n",
    "]"
   ]
  },
  {
   "cell_type": "code",
   "execution_count": 9,
   "metadata": {},
   "outputs": [
    {
     "name": "stdout",
     "output_type": "stream",
     "text": [
      "Model Comparison via Leave-One-Out CV:\n",
      "Logistic       : 0.57 ± 0.49\n",
      "SMOTE+Logistic : 0.57 ± 0.49\n",
      "SVM (RBF)      : 0.52 ± 0.50\n",
      "RandomForest   : 0.33 ± 0.47\n",
      "VotingEnsemble : 0.48 ± 0.50\n"
     ]
    }
   ],
   "source": [
    "print('Model Comparison via Leave-One-Out CV:')\n",
    "for name, model in models:\n",
    "    scores = cross_val_score(model, X, y, cv=loo, scoring='accuracy', n_jobs = -1)\n",
    "    print(f\"{name:15s}: {scores.mean():.2f} ± {scores.std():.2f}\")"
   ]
  },
  {
   "cell_type": "markdown",
   "metadata": {},
   "source": [
    "### 5. Grid search hyperparameter tuning\n",
    "\n",
    "#### a. Elastic-Net Logistic"
   ]
  },
  {
   "cell_type": "code",
   "execution_count": 10,
   "metadata": {},
   "outputs": [
    {
     "name": "stdout",
     "output_type": "stream",
     "text": [
      "Elastic-Net Best Params: {'clf__C': 0.01, 'clf__l1_ratio': 0.75}\n",
      "Elastic-Net LOO-cv Acc: 0.6666666666666666\n"
     ]
    }
   ],
   "source": [
    "pipe_enet = Pipeline([\n",
    "    ('impute', SimpleImputer(strategy='median')),\n",
    "    ('scale', StandardScaler()),\n",
    "    ('clf', LogisticRegression(\n",
    "        penalty= 'elasticnet', solver ='saga',\n",
    "        class_weight='balanced', max_iter=5000))\n",
    "])\n",
    "\n",
    "param_grid_enet = {\n",
    "    'clf__C': [0.01, 0.1, 1, 10, 100],\n",
    "    'clf__l1_ratio': [0.0, 0.25, 0.5, 0.75, 1.0]\n",
    "}\n",
    "\n",
    "gs_enet = GridSearchCV(\n",
    "    pipe_enet, param_grid_enet,\n",
    "    cv=loo, scoring= 'accuracy', n_jobs=-1\n",
    ")\n",
    "\n",
    "gs_enet.fit(X, y)\n",
    "print(\"Elastic-Net Best Params:\", gs_enet.best_params_)\n",
    "print(\"Elastic-Net LOO-cv Acc:\", gs_enet.best_score_)"
   ]
  },
  {
   "cell_type": "code",
   "execution_count": 42,
   "metadata": {},
   "outputs": [
    {
     "name": "stdout",
     "output_type": "stream",
     "text": [
      "Logistic Best Params: {'clf__C': 0.01}\n",
      "Logistic 5-Fold Acc  : 0.52\n"
     ]
    }
   ],
   "source": [
    "pipe_log_gs = Pipeline([\n",
    "    ('impute', SimpleImputer(strategy='median')),\n",
    "    ('scale',  StandardScaler()),\n",
    "    ('clf',    LogisticRegression(penalty='l1', solver='liblinear', max_iter=2000))\n",
    "])\n",
    "\n",
    "param_grid_log = {\n",
    "    'clf__C':        [0.01, 0.1, 1, 10, 100],\n",
    "}\n",
    "\n",
    "gs_log = GridSearchCV(\n",
    "    pipe_log_gs,\n",
    "    param_grid_log,\n",
    "    cv=5,\n",
    "    scoring='accuracy',\n",
    "    n_jobs=-1\n",
    ")\n",
    "gs_log.fit(X, y)\n",
    "\n",
    "print(\"Logistic Best Params:\", gs_log.best_params_)\n",
    "print(\"Logistic 5-Fold Acc  :\", gs_log.best_score_)"
   ]
  },
  {
   "cell_type": "markdown",
   "metadata": {},
   "source": [
    "#### b. SVM Grid"
   ]
  },
  {
   "cell_type": "code",
   "execution_count": 18,
   "metadata": {},
   "outputs": [
    {
     "name": "stdout",
     "output_type": "stream",
     "text": [
      "SVM Best Params: {'clf__C': 1, 'clf__gamma': 1}\n",
      "SVM 5-Fold CV Acc: 0.54\n"
     ]
    }
   ],
   "source": [
    "pipe_svm_gs = Pipeline([\n",
    "    ('impute', SimpleImputer()),\n",
    "    ('scale', StandardScaler()),\n",
    "    ('clf', SVC(class_weight='balanced', probability=True))\n",
    "])\n",
    "\n",
    "param_grid_svm = {\n",
    "    'clf__C': [0.1, 1, 10, 100],\n",
    "    'clf__gamma': ['scale', 0.01, 0.1, 1]\n",
    "}\n",
    "\n",
    "gs_svm = GridSearchCV(pipe_svm_gs, param_grid_svm, \n",
    "                      cv=5, scoring='accuracy', n_jobs=-1)\n",
    "gs_svm.fit(X,y)\n",
    "print(\"SVM Best Params:\", gs_svm.best_params_)\n",
    "print(\"SVM 5-Fold CV Acc:\", gs_svm.best_score_)"
   ]
  },
  {
   "cell_type": "code",
   "execution_count": 38,
   "metadata": {},
   "outputs": [
    {
     "name": "stdout",
     "output_type": "stream",
     "text": [
      "SVM Best Params: {'clf__C': 0.1, 'clf__gamma': 0.01}\n",
      "SVM Leave One Out CV Acc: 0.9047619047619048\n"
     ]
    }
   ],
   "source": [
    "pipe_svm = Pipeline([\n",
    "    ('impute', SimpleImputer(strategy='median')),\n",
    "    ('scale',  StandardScaler()),\n",
    "    ('clf',    SVC(class_weight='balanced', probability=True))\n",
    "])\n",
    "\n",
    "param_grid = {\n",
    "  'clf__C':     [0.1, 1, 10],\n",
    "  'clf__gamma': ['scale', 0.01, 0.1, 1]\n",
    "}\n",
    "\n",
    "grid_svm = GridSearchCV(pipe_svm, param_grid, cv=LeaveOneOut(), scoring='accuracy')\n",
    "grid_svm.fit(X, y)\n",
    "print(\"SVM Best Params:\", grid_svm.best_params_)\n",
    "print(\"SVM Leave One Out CV Acc:\", grid_svm.best_score_)"
   ]
  },
  {
   "cell_type": "markdown",
   "metadata": {},
   "source": [
    "#### c. Random Forest grid"
   ]
  },
  {
   "cell_type": "code",
   "execution_count": 12,
   "metadata": {},
   "outputs": [
    {
     "name": "stdout",
     "output_type": "stream",
     "text": [
      "RF Best Params: {'clf__max_depth': 5, 'clf__min_samples_leaf': 1, 'clf__n_estimators': 50}\n",
      "RF 5-Fold CV Acc: 0.63\n"
     ]
    }
   ],
   "source": [
    "pipe_rf_gs = Pipeline([\n",
    "    ('impute', SimpleImputer()),\n",
    "    ('clf', RandomForestClassifier(class_weight='balanced', random_state=0))\n",
    "])\n",
    "\n",
    "param_grid_rf = {\n",
    "    'clf__n_estimators': [50, 100, 200],\n",
    "    'clf__max_depth': [2, 4, 5, None],\n",
    "    'clf__min_samples_leaf': [1, 2, 4]\n",
    "}\n",
    "\n",
    "gs_rf = GridSearchCV(pipe_rf_gs, param_grid_rf, cv=5,\n",
    "                     scoring='accuracy', n_jobs=-1)\n",
    "gs_rf.fit(X,y)\n",
    "print(\"RF Best Params:\", gs_rf.best_params_)\n",
    "print(\"RF 5-Fold CV Acc:\", gs_rf.best_score_)"
   ]
  },
  {
   "cell_type": "code",
   "execution_count": 41,
   "metadata": {},
   "outputs": [
    {
     "name": "stdout",
     "output_type": "stream",
     "text": [
      "RF Best Params: {'clf__max_depth': 2, 'clf__min_samples_leaf': 4, 'clf__n_estimators': 50}\n",
      "RF LOOCV Acc  : 0.47619047619047616\n"
     ]
    }
   ],
   "source": [
    "pipe_rf_gs = Pipeline([\n",
    "    ('impute', SimpleImputer(strategy='median')),\n",
    "    ('clf',    RandomForestClassifier(class_weight='balanced', random_state=0))\n",
    "])\n",
    "\n",
    "param_grid_rf = {\n",
    "    'clf__n_estimators':    [50, 100, 200],\n",
    "    'clf__max_depth':       [2, 4, 6, None],\n",
    "    'clf__min_samples_leaf':[1, 2, 4]\n",
    "}\n",
    "\n",
    "gs_rf = GridSearchCV(\n",
    "    pipe_rf_gs,\n",
    "    param_grid_rf,\n",
    "    cv=loo,\n",
    "    scoring='accuracy',\n",
    "    n_jobs=-1\n",
    ")\n",
    "gs_rf.fit(X, y)\n",
    "\n",
    "print(\"RF Best Params:\", gs_rf.best_params_)\n",
    "print(\"RF LOOCV Acc  :\", gs_rf.best_score_)"
   ]
  },
  {
   "cell_type": "markdown",
   "metadata": {},
   "source": [
    "#### d. Nested Loo Comparision for tuned models"
   ]
  },
  {
   "cell_type": "code",
   "execution_count": 13,
   "metadata": {},
   "outputs": [
    {
     "name": "stdout",
     "output_type": "stream",
     "text": [
      "Nested Loo-CV (Tuned Models):\n",
      "ElasticNet-LR  : 0.48 ± 0.50\n",
      "SVM            : 0.57 ± 0.49\n",
      "RandomForest   : 0.57 ± 0.49\n"
     ]
    }
   ],
   "source": [
    "tuned = [\n",
    "    ('ElasticNet-LR', gs_enet),\n",
    "    ('SVM', gs_svm),\n",
    "    ('RandomForest', gs_rf)\n",
    "]\n",
    "\n",
    "print(\"Nested Loo-CV (Tuned Models):\")\n",
    "for name, gs in tuned:\n",
    "    nested_scores = cross_val_score(gs, X, y, cv=LeaveOneOut(), n_jobs=-1)\n",
    "    print(f\"{name:15s}: {nested_scores.mean():.2f} ± {nested_scores.std():.2f}\")"
   ]
  },
  {
   "cell_type": "markdown",
   "metadata": {},
   "source": [
    "### 5.5 Feature selection with RFECV"
   ]
  },
  {
   "cell_type": "markdown",
   "metadata": {},
   "source": [
    "#### a. Logistic Regression"
   ]
  },
  {
   "cell_type": "code",
   "execution_count": 34,
   "metadata": {},
   "outputs": [
    {
     "name": "stdout",
     "output_type": "stream",
     "text": [
      "Optimal # features: 3\n",
      "Selected features: ['gdp_growth', 'rail_per_thousand', 'density_growth_interaction']\n"
     ]
    }
   ],
   "source": [
    "# run RFECV to pick the best subset of features\n",
    "selector = RFECV(\n",
    "    estimator= LogisticRegression(\n",
    "        penalty='l1', solver='liblinear', class_weight='balanced', max_iter=1000\n",
    "    ),\n",
    "    cv = LeaveOneOut(),\n",
    "    scoring = 'accuracy',\n",
    "    min_features_to_select= 3,\n",
    "    n_jobs=-1\n",
    ")\n",
    "selector.fit(X, y)\n",
    "\n",
    "print(f\"Optimal # features: {selector.n_features_}\")\n",
    "print(\"Selected features:\", list(X.columns[selector.support_]))"
   ]
  },
  {
   "cell_type": "code",
   "execution_count": 35,
   "metadata": {},
   "outputs": [
    {
     "name": "stdout",
     "output_type": "stream",
     "text": [
      "Nested LOO-CV on reduced Feature Set:\n",
      "ElasticNet-LR  : 0.43 ± 0.49\n",
      "SVM            : 0.57 ± 0.49\n",
      "RandomForest   : 0.43 ± 0.49\n"
     ]
    }
   ],
   "source": [
    "# reduce X to only those selected features\n",
    "X_reduced = X.loc[:, selector.support_]\n",
    "\n",
    "# re-run best tuned model on the reduced feature set with nested LOO\n",
    "print(\"Nested LOO-CV on reduced Feature Set:\")\n",
    "for name, gs in tuned: # tuned is the list of GridSearchCV models\n",
    "    scores = cross_val_score(gs, X_reduced, y, cv=LeaveOneOut(), n_jobs=-1)\n",
    "    print(f'{name:15s}: {scores.mean():.2f} ± {scores.std():.2f}')"
   ]
  },
  {
   "cell_type": "markdown",
   "metadata": {},
   "source": [
    "#### b. SVM"
   ]
  },
  {
   "cell_type": "code",
   "execution_count": 36,
   "metadata": {},
   "outputs": [
    {
     "name": "stdout",
     "output_type": "stream",
     "text": [
      "SVM - Optimal # features: 6\n",
      "SVM - Selected features: ['gdp_growth', 'urban_rate', 'hsr_per_thousand', 'rail_per_thousand', 'hsr_share', 'density_growth_interaction']\n",
      "SVM (tuned) on reduced features: 0.67 ± 0.47\n"
     ]
    }
   ],
   "source": [
    "selector_svm = RFECV(\n",
    "    estimator=SVC(kernel='linear', class_weight='balanced'),\n",
    "    cv=LeaveOneOut(),\n",
    "    scoring='accuracy',\n",
    "    min_features_to_select=3,\n",
    "    n_jobs=-1\n",
    ")\n",
    "selector_svm.fit(X, y)\n",
    "print(f\"SVM - Optimal # features: {selector_svm.n_features_}\")\n",
    "print(\"SVM - Selected features:\", list(X.columns[selector_svm.support_]))\n",
    "\n",
    "# Reduce X for SVM\n",
    "X_svm_reduced = X.loc[:, selector_svm.support_]\n",
    "\n",
    "# Nested LOO-CV for tuned SVM on reduced set\n",
    "svm_scores_reduced = cross_val_score(gs_svm, X_svm_reduced, y, cv=LeaveOneOut(), n_jobs=-1)\n",
    "print(f\"SVM (tuned) on reduced features: {svm_scores_reduced.mean():.2f} ± {svm_scores_reduced.std():.2f}\")\n"
   ]
  },
  {
   "cell_type": "markdown",
   "metadata": {},
   "source": [
    "#### c. Random Forest"
   ]
  },
  {
   "cell_type": "code",
   "execution_count": 37,
   "metadata": {},
   "outputs": [
    {
     "name": "stdout",
     "output_type": "stream",
     "text": [
      "RF - Optimal # features: 5\n",
      "RF - Selected features: ['gdp_growth', 'gdp_total', 'pop_density', 'gdp_pc_urban_interaction', 'density_growth_interaction']\n",
      "RandomForest (tuned) on reduced features: 0.57 ± 0.49\n"
     ]
    }
   ],
   "source": [
    "selector_rf = RFECV(\n",
    "    estimator=RandomForestClassifier(n_estimators=100, class_weight='balanced', random_state=42),\n",
    "    cv=LeaveOneOut(),\n",
    "    scoring='accuracy',\n",
    "    min_features_to_select=3,\n",
    "    n_jobs=-1\n",
    ")\n",
    "selector_rf.fit(X, y)\n",
    "print(f\"RF - Optimal # features: {selector_rf.n_features_}\")\n",
    "print(\"RF - Selected features:\", list(X.columns[selector_rf.support_]))\n",
    "\n",
    "# Reduce X for RF\n",
    "X_rf_reduced = X.loc[:, selector_rf.support_]\n",
    "\n",
    "# Nested LOO-CV for tuned RF on reduced set\n",
    "rf_scores_reduced = cross_val_score(gs_rf, X_rf_reduced, y, cv=LeaveOneOut(), n_jobs=-1)\n",
    "print(f\"RandomForest (tuned) on reduced features: {rf_scores_reduced.mean():.2f} ± {rf_scores_reduced.std():.2f}\")\n"
   ]
  },
  {
   "cell_type": "markdown",
   "metadata": {},
   "source": [
    "### 6. Epoch-based learning and plotting"
   ]
  },
  {
   "cell_type": "code",
   "execution_count": 26,
   "metadata": {},
   "outputs": [],
   "source": [
    "#  split a small train/val set for epoch-based curves\n",
    "X_tr, X_val, y_tr, y_val = train_test_split(\n",
    "    X, y, test_size = 0.2, stratify= y, random_state = 42\n",
    ")"
   ]
  },
  {
   "cell_type": "markdown",
   "metadata": {},
   "source": [
    "#### a) SGDCClassifier (logistic via SGD)"
   ]
  },
  {
   "cell_type": "code",
   "execution_count": 28,
   "metadata": {},
   "outputs": [],
   "source": [
    "sgd_pipe = Pipeline([\n",
    "    ('impute', SimpleImputer(strategy='median')),\n",
    "    ('scale', StandardScaler()),\n",
    "    ('clf', SGDClassifier(loss='log_loss', max_iter=1, tol=None,\n",
    "                          learning_rate='optimal',\n",
    "                          warm_start=True, random_state=0))\n",
    "])\n",
    "\n",
    "n_epochs = 50\n",
    "train_acc_sgd = []\n",
    "val_acc_sgd = []\n",
    "\n",
    "for epoch in range(n_epochs):\n",
    "    sgd_pipe.fit(X_tr, y_tr)\n",
    "    train_acc_sgd.append(sgd_pipe.score(X_tr, y_tr))\n",
    "    val_acc_sgd.append(sgd_pipe.score(X_val, y_val))"
   ]
  },
  {
   "cell_type": "code",
   "execution_count": 31,
   "metadata": {},
   "outputs": [
    {
     "data": {
      "image/png": "[encoded data removed]",
      "text/plain": [
       "<Figure size 640x480 with 1 Axes>"
      ]
     },
     "metadata": {},
     "output_type": "display_data"
    }
   ],
   "source": [
    "plt.figure()\n",
    "plt.plot(range(1, n_epochs+1), train_acc_sgd, label='Train Acc')\n",
    "plt.plot(range(1, n_epochs+1), val_acc_sgd, label='Val Acc')\n",
    "plt.xlabel('Epoch')\n",
    "plt.ylabel('Accuracy')\n",
    "plt.title('SGDClassifier Accuracy per Epoch')\n",
    "plt.legend()\n",
    "plt.show()"
   ]
  },
  {
   "cell_type": "markdown",
   "metadata": {},
   "source": [
    "#### b) MLPClassifier (Neural Net)"
   ]
  },
  {
   "cell_type": "code",
   "execution_count": 30,
   "metadata": {},
   "outputs": [
    {
     "data": {
      "text/html": [
       "<style>#sk-container-id-1 {\n",
       "  /* Definition of color scheme common for light and dark mode */\n",
       "  --sklearn-color-text: #000;\n",
       "  --sklearn-color-text-muted: #666;\n",
       "  --sklearn-color-line: gray;\n",
       "  /* Definition of color scheme for unfitted estimators */\n",
       "  --sklearn-color-unfitted-level-0: #fff5e6;\n",
       "  --sklearn-color-unfitted-level-1: #f6e4d2;\n",
       "  --sklearn-color-unfitted-level-2: #ffe0b3;\n",
       "  --sklearn-color-unfitted-level-3: chocolate;\n",
       "  /* Definition of color scheme for fitted estimators */\n",
       "  --sklearn-color-fitted-level-0: #f0f8ff;\n",
       "  --sklearn-color-fitted-level-1: #d4ebff;\n",
       "  --sklearn-color-fitted-level-2: #b3dbfd;\n",
       "  --sklearn-color-fitted-level-3: cornflowerblue;\n",
       "\n",
       "  /* Specific color for light theme */\n",
       "  --sklearn-color-text-on-default-background: var(--sg-text-color, var(--theme-code-foreground, var(--jp-content-font-color1, black)));\n",
       "  --sklearn-color-background: var(--sg-background-color, var(--theme-background, var(--jp-layout-color0, white)));\n",
       "  --sklearn-color-border-box: var(--sg-text-color, var(--theme-code-foreground, var(--jp-content-font-color1, black)));\n",
       "  --sklearn-color-icon: #696969;\n",
       "\n",
       "  @media (prefers-color-scheme: dark) {\n",
       "    /* Redefinition of color scheme for dark theme */\n",
       "    --sklearn-color-text-on-default-background: var(--sg-text-color, var(--theme-code-foreground, var(--jp-content-font-color1, white)));\n",
       "    --sklearn-color-background: var(--sg-background-color, var(--theme-background, var(--jp-layout-color0, #111)));\n",
       "    --sklearn-color-border-box: var(--sg-text-color, var(--theme-code-foreground, var(--jp-content-font-color1, white)));\n",
       "    --sklearn-color-icon: #878787;\n",
       "  }\n",
       "}\n",
       "\n",
       "#sk-container-id-1 {\n",
       "  color: var(--sklearn-color-text);\n",
       "}\n",
       "\n",
       "#sk-container-id-1 pre {\n",
       "  padding: 0;\n",
       "}\n",
       "\n",
       "#sk-container-id-1 input.sk-hidden--visually {\n",
       "  border: 0;\n",
       "  clip: rect(1px 1px 1px 1px);\n",
       "  clip: rect(1px, 1px, 1px, 1px);\n",
       "  height: 1px;\n",
       "  margin: -1px;\n",
       "  overflow: hidden;\n",
       "  padding: 0;\n",
       "  position: absolute;\n",
       "  width: 1px;\n",
       "}\n",
       "\n",
       "#sk-container-id-1 div.sk-dashed-wrapped {\n",
       "  border: 1px dashed var(--sklearn-color-line);\n",
       "  margin: 0 0.4em 0.5em 0.4em;\n",
       "  box-sizing: border-box;\n",
       "  padding-bottom: 0.4em;\n",
       "  background-color: var(--sklearn-color-background);\n",
       "}\n",
       "\n",
       "#sk-container-id-1 div.sk-container {\n",
       "  /* jupyter's `normalize.less` sets `[hidden] { display: none; }`\n",
       "     but bootstrap.min.css set `[hidden] { display: none !important; }`\n",
       "     so we also need the `!important` here to be able to override the\n",
       "     default hidden behavior on the sphinx rendered scikit-learn.org.\n",
       "     See: https://github.com/scikit-learn/scikit-learn/issues/21755 */\n",
       "  display: inline-block !important;\n",
       "  position: relative;\n",
       "}\n",
       "\n",
       "#sk-container-id-1 div.sk-text-repr-fallback {\n",
       "  display: none;\n",
       "}\n",
       "\n",
       "div.sk-parallel-item,\n",
       "div.sk-serial,\n",
       "div.sk-item {\n",
       "  /* draw centered vertical line to link estimators */\n",
       "  background-image: linear-gradient(var(--sklearn-color-text-on-default-background), var(--sklearn-color-text-on-default-background));\n",
       "  background-size: 2px 100%;\n",
       "  background-repeat: no-repeat;\n",
       "  background-position: center center;\n",
       "}\n",
       "\n",
       "/* Parallel-specific style estimator block */\n",
       "\n",
       "#sk-container-id-1 div.sk-parallel-item::after {\n",
       "  content: \"\";\n",
       "  width: 100%;\n",
       "  border-bottom: 2px solid var(--sklearn-color-text-on-default-background);\n",
       "  flex-grow: 1;\n",
       "}\n",
       "\n",
       "#sk-container-id-1 div.sk-parallel {\n",
       "  display: flex;\n",
       "  align-items: stretch;\n",
       "  justify-content: center;\n",
       "  background-color: var(--sklearn-color-background);\n",
       "  position: relative;\n",
       "}\n",
       "\n",
       "#sk-container-id-1 div.sk-parallel-item {\n",
       "  display: flex;\n",
       "  flex-direction: column;\n",
       "}\n",
       "\n",
       "#sk-container-id-1 div.sk-parallel-item:first-child::after {\n",
       "  align-self: flex-end;\n",
       "  width: 50%;\n",
       "}\n",
       "\n",
       "#sk-container-id-1 div.sk-parallel-item:last-child::after {\n",
       "  align-self: flex-start;\n",
       "  width: 50%;\n",
       "}\n",
       "\n",
       "#sk-container-id-1 div.sk-parallel-item:only-child::after {\n",
       "  width: 0;\n",
       "}\n",
       "\n",
       "/* Serial-specific style estimator block */\n",
       "\n",
       "#sk-container-id-1 div.sk-serial {\n",
       "  display: flex;\n",
       "  flex-direction: column;\n",
       "  align-items: center;\n",
       "  background-color: var(--sklearn-color-background);\n",
       "  padding-right: 1em;\n",
       "  padding-left: 1em;\n",
       "}\n",
       "\n",
       "\n",
       "/* Toggleable style: style used for estimator/Pipeline/ColumnTransformer box that is\n",
       "clickable and can be expanded/collapsed.\n",
       "- Pipeline and ColumnTransformer use this feature and define the default style\n",
       "- Estimators will overwrite some part of the style using the `sk-estimator` class\n",
       "*/\n",
       "\n",
       "/* Pipeline and ColumnTransformer style (default) */\n",
       "\n",
       "#sk-container-id-1 div.sk-toggleable {\n",
       "  /* Default theme specific background. It is overwritten whether we have a\n",
       "  specific estimator or a Pipeline/ColumnTransformer */\n",
       "  background-color: var(--sklearn-color-background);\n",
       "}\n",
       "\n",
       "/* Toggleable label */\n",
       "#sk-container-id-1 label.sk-toggleable__label {\n",
       "  cursor: pointer;\n",
       "  display: flex;\n",
       "  width: 100%;\n",
       "  margin-bottom: 0;\n",
       "  padding: 0.5em;\n",
       "  box-sizing: border-box;\n",
       "  text-align: center;\n",
       "  align-items: start;\n",
       "  justify-content: space-between;\n",
       "  gap: 0.5em;\n",
       "}\n",
       "\n",
       "#sk-container-id-1 label.sk-toggleable__label .caption {\n",
       "  font-size: 0.6rem;\n",
       "  font-weight: lighter;\n",
       "  color: var(--sklearn-color-text-muted);\n",
       "}\n",
       "\n",
       "#sk-container-id-1 label.sk-toggleable__label-arrow:before {\n",
       "  /* Arrow on the left of the label */\n",
       "  content: \"▸\";\n",
       "  float: left;\n",
       "  margin-right: 0.25em;\n",
       "  color: var(--sklearn-color-icon);\n",
       "}\n",
       "\n",
       "#sk-container-id-1 label.sk-toggleable__label-arrow:hover:before {\n",
       "  color: var(--sklearn-color-text);\n",
       "}\n",
       "\n",
       "/* Toggleable content - dropdown */\n",
       "\n",
       "#sk-container-id-1 div.sk-toggleable__content {\n",
       "  max-height: 0;\n",
       "  max-width: 0;\n",
       "  overflow: hidden;\n",
       "  text-align: left;\n",
       "  /* unfitted */\n",
       "  background-color: var(--sklearn-color-unfitted-level-0);\n",
       "}\n",
       "\n",
       "#sk-container-id-1 div.sk-toggleable__content.fitted {\n",
       "  /* fitted */\n",
       "  background-color: var(--sklearn-color-fitted-level-0);\n",
       "}\n",
       "\n",
       "#sk-container-id-1 div.sk-toggleable__content pre {\n",
       "  margin: 0.2em;\n",
       "  border-radius: 0.25em;\n",
       "  color: var(--sklearn-color-text);\n",
       "  /* unfitted */\n",
       "  background-color: var(--sklearn-color-unfitted-level-0);\n",
       "}\n",
       "\n",
       "#sk-container-id-1 div.sk-toggleable__content.fitted pre {\n",
       "  /* unfitted */\n",
       "  background-color: var(--sklearn-color-fitted-level-0);\n",
       "}\n",
       "\n",
       "#sk-container-id-1 input.sk-toggleable__control:checked~div.sk-toggleable__content {\n",
       "  /* Expand drop-down */\n",
       "  max-height: 200px;\n",
       "  max-width: 100%;\n",
       "  overflow: auto;\n",
       "}\n",
       "\n",
       "#sk-container-id-1 input.sk-toggleable__control:checked~label.sk-toggleable__label-arrow:before {\n",
       "  content: \"▾\";\n",
       "}\n",
       "\n",
       "/* Pipeline/ColumnTransformer-specific style */\n",
       "\n",
       "#sk-container-id-1 div.sk-label input.sk-toggleable__control:checked~label.sk-toggleable__label {\n",
       "  color: var(--sklearn-color-text);\n",
       "  background-color: var(--sklearn-color-unfitted-level-2);\n",
       "}\n",
       "\n",
       "#sk-container-id-1 div.sk-label.fitted input.sk-toggleable__control:checked~label.sk-toggleable__label {\n",
       "  background-color: var(--sklearn-color-fitted-level-2);\n",
       "}\n",
       "\n",
       "/* Estimator-specific style */\n",
       "\n",
       "/* Colorize estimator box */\n",
       "#sk-container-id-1 div.sk-estimator input.sk-toggleable__control:checked~label.sk-toggleable__label {\n",
       "  /* unfitted */\n",
       "  background-color: var(--sklearn-color-unfitted-level-2);\n",
       "}\n",
       "\n",
       "#sk-container-id-1 div.sk-estimator.fitted input.sk-toggleable__control:checked~label.sk-toggleable__label {\n",
       "  /* fitted */\n",
       "  background-color: var(--sklearn-color-fitted-level-2);\n",
       "}\n",
       "\n",
       "#sk-container-id-1 div.sk-label label.sk-toggleable__label,\n",
       "#sk-container-id-1 div.sk-label label {\n",
       "  /* The background is the default theme color */\n",
       "  color: var(--sklearn-color-text-on-default-background);\n",
       "}\n",
       "\n",
       "/* On hover, darken the color of the background */\n",
       "#sk-container-id-1 div.sk-label:hover label.sk-toggleable__label {\n",
       "  color: var(--sklearn-color-text);\n",
       "  background-color: var(--sklearn-color-unfitted-level-2);\n",
       "}\n",
       "\n",
       "/* Label box, darken color on hover, fitted */\n",
       "#sk-container-id-1 div.sk-label.fitted:hover label.sk-toggleable__label.fitted {\n",
       "  color: var(--sklearn-color-text);\n",
       "  background-color: var(--sklearn-color-fitted-level-2);\n",
       "}\n",
       "\n",
       "/* Estimator label */\n",
       "\n",
       "#sk-container-id-1 div.sk-label label {\n",
       "  font-family: monospace;\n",
       "  font-weight: bold;\n",
       "  display: inline-block;\n",
       "  line-height: 1.2em;\n",
       "}\n",
       "\n",
       "#sk-container-id-1 div.sk-label-container {\n",
       "  text-align: center;\n",
       "}\n",
       "\n",
       "/* Estimator-specific */\n",
       "#sk-container-id-1 div.sk-estimator {\n",
       "  font-family: monospace;\n",
       "  border: 1px dotted var(--sklearn-color-border-box);\n",
       "  border-radius: 0.25em;\n",
       "  box-sizing: border-box;\n",
       "  margin-bottom: 0.5em;\n",
       "  /* unfitted */\n",
       "  background-color: var(--sklearn-color-unfitted-level-0);\n",
       "}\n",
       "\n",
       "#sk-container-id-1 div.sk-estimator.fitted {\n",
       "  /* fitted */\n",
       "  background-color: var(--sklearn-color-fitted-level-0);\n",
       "}\n",
       "\n",
       "/* on hover */\n",
       "#sk-container-id-1 div.sk-estimator:hover {\n",
       "  /* unfitted */\n",
       "  background-color: var(--sklearn-color-unfitted-level-2);\n",
       "}\n",
       "\n",
       "#sk-container-id-1 div.sk-estimator.fitted:hover {\n",
       "  /* fitted */\n",
       "  background-color: var(--sklearn-color-fitted-level-2);\n",
       "}\n",
       "\n",
       "/* Specification for estimator info (e.g. \"i\" and \"?\") */\n",
       "\n",
       "/* Common style for \"i\" and \"?\" */\n",
       "\n",
       ".sk-estimator-doc-link,\n",
       "a:link.sk-estimator-doc-link,\n",
       "a:visited.sk-estimator-doc-link {\n",
       "  float: right;\n",
       "  font-size: smaller;\n",
       "  line-height: 1em;\n",
       "  font-family: monospace;\n",
       "  background-color: var(--sklearn-color-background);\n",
       "  border-radius: 1em;\n",
       "  height: 1em;\n",
       "  width: 1em;\n",
       "  text-decoration: none !important;\n",
       "  margin-left: 0.5em;\n",
       "  text-align: center;\n",
       "  /* unfitted */\n",
       "  border: var(--sklearn-color-unfitted-level-1) 1pt solid;\n",
       "  color: var(--sklearn-color-unfitted-level-1);\n",
       "}\n",
       "\n",
       ".sk-estimator-doc-link.fitted,\n",
       "a:link.sk-estimator-doc-link.fitted,\n",
       "a:visited.sk-estimator-doc-link.fitted {\n",
       "  /* fitted */\n",
       "  border: var(--sklearn-color-fitted-level-1) 1pt solid;\n",
       "  color: var(--sklearn-color-fitted-level-1);\n",
       "}\n",
       "\n",
       "/* On hover */\n",
       "div.sk-estimator:hover .sk-estimator-doc-link:hover,\n",
       ".sk-estimator-doc-link:hover,\n",
       "div.sk-label-container:hover .sk-estimator-doc-link:hover,\n",
       ".sk-estimator-doc-link:hover {\n",
       "  /* unfitted */\n",
       "  background-color: var(--sklearn-color-unfitted-level-3);\n",
       "  color: var(--sklearn-color-background);\n",
       "  text-decoration: none;\n",
       "}\n",
       "\n",
       "div.sk-estimator.fitted:hover .sk-estimator-doc-link.fitted:hover,\n",
       ".sk-estimator-doc-link.fitted:hover,\n",
       "div.sk-label-container:hover .sk-estimator-doc-link.fitted:hover,\n",
       ".sk-estimator-doc-link.fitted:hover {\n",
       "  /* fitted */\n",
       "  background-color: var(--sklearn-color-fitted-level-3);\n",
       "  color: var(--sklearn-color-background);\n",
       "  text-decoration: none;\n",
       "}\n",
       "\n",
       "/* Span, style for the box shown on hovering the info icon */\n",
       ".sk-estimator-doc-link span {\n",
       "  display: none;\n",
       "  z-index: 9999;\n",
       "  position: relative;\n",
       "  font-weight: normal;\n",
       "  right: .2ex;\n",
       "  padding: .5ex;\n",
       "  margin: .5ex;\n",
       "  width: min-content;\n",
       "  min-width: 20ex;\n",
       "  max-width: 50ex;\n",
       "  color: var(--sklearn-color-text);\n",
       "  box-shadow: 2pt 2pt 4pt #999;\n",
       "  /* unfitted */\n",
       "  background: var(--sklearn-color-unfitted-level-0);\n",
       "  border: .5pt solid var(--sklearn-color-unfitted-level-3);\n",
       "}\n",
       "\n",
       ".sk-estimator-doc-link.fitted span {\n",
       "  /* fitted */\n",
       "  background: var(--sklearn-color-fitted-level-0);\n",
       "  border: var(--sklearn-color-fitted-level-3);\n",
       "}\n",
       "\n",
       ".sk-estimator-doc-link:hover span {\n",
       "  display: block;\n",
       "}\n",
       "\n",
       "/* \"?\"-specific style due to the `<a>` HTML tag */\n",
       "\n",
       "#sk-container-id-1 a.estimator_doc_link {\n",
       "  float: right;\n",
       "  font-size: 1rem;\n",
       "  line-height: 1em;\n",
       "  font-family: monospace;\n",
       "  background-color: var(--sklearn-color-background);\n",
       "  border-radius: 1rem;\n",
       "  height: 1rem;\n",
       "  width: 1rem;\n",
       "  text-decoration: none;\n",
       "  /* unfitted */\n",
       "  color: var(--sklearn-color-unfitted-level-1);\n",
       "  border: var(--sklearn-color-unfitted-level-1) 1pt solid;\n",
       "}\n",
       "\n",
       "#sk-container-id-1 a.estimator_doc_link.fitted {\n",
       "  /* fitted */\n",
       "  border: var(--sklearn-color-fitted-level-1) 1pt solid;\n",
       "  color: var(--sklearn-color-fitted-level-1);\n",
       "}\n",
       "\n",
       "/* On hover */\n",
       "#sk-container-id-1 a.estimator_doc_link:hover {\n",
       "  /* unfitted */\n",
       "  background-color: var(--sklearn-color-unfitted-level-3);\n",
       "  color: var(--sklearn-color-background);\n",
       "  text-decoration: none;\n",
       "}\n",
       "\n",
       "#sk-container-id-1 a.estimator_doc_link.fitted:hover {\n",
       "  /* fitted */\n",
       "  background-color: var(--sklearn-color-fitted-level-3);\n",
       "}\n",
       "</style><div id=\"sk-container-id-1\" class=\"sk-top-container\"><div class=\"sk-text-repr-fallback\"><pre>MLPClassifier(early_stopping=True, hidden_layer_sizes=(16,), random_state=0)</pre><b>In a Jupyter environment, please rerun this cell to show the HTML representation or trust the notebook. <br />On GitHub, the HTML representation is unable to render, please try loading this page with nbviewer.org.</b></div><div class=\"sk-container\" hidden><div class=\"sk-item\"><div class=\"sk-estimator fitted sk-toggleable\"><input class=\"sk-toggleable__control sk-hidden--visually\" id=\"sk-estimator-id-1\" type=\"checkbox\" checked><label for=\"sk-estimator-id-1\" class=\"sk-toggleable__label fitted sk-toggleable__label-arrow\"><div><div>MLPClassifier</div></div><div><a class=\"sk-estimator-doc-link fitted\" rel=\"noreferrer\" target=\"_blank\" href=\"https://scikit-learn.org/1.6/modules/generated/sklearn.neural_network.MLPClassifier.html\">?<span>Documentation for MLPClassifier</span></a><span class=\"sk-estimator-doc-link fitted\">i<span>Fitted</span></span></div></label><div class=\"sk-toggleable__content fitted\"><pre>MLPClassifier(early_stopping=True, hidden_layer_sizes=(16,), random_state=0)</pre></div> </div></div></div></div>"
      ],
      "text/plain": [
       "MLPClassifier(early_stopping=True, hidden_layer_sizes=(16,), random_state=0)"
      ]
     },
     "execution_count": 30,
     "metadata": {},
     "output_type": "execute_result"
    }
   ],
   "source": [
    "mlp = MLPClassifier(hidden_layer_sizes=(16,), max_iter = 200,\n",
    "                    early_stopping= True, validation_fraction=0.1,\n",
    "                    n_iter_no_change=10, random_state=0)\n",
    "mlp.fit(X_tr, y_tr)"
   ]
  },
  {
   "cell_type": "code",
   "execution_count": 32,
   "metadata": {},
   "outputs": [
    {
     "data": {
      "image/png": "[encoded data removed]",
      "text/plain": [
       "<Figure size 640x480 with 1 Axes>"
      ]
     },
     "metadata": {},
     "output_type": "display_data"
    }
   ],
   "source": [
    "epochs = list(range(1, len(mlp.loss_curve_)+1))\n",
    "plt.figure()\n",
    "plt.plot(epochs, mlp.loss_curve_, label = 'Train loss')\n",
    "plt.plot(epochs, mlp.validation_scores_, label='Val Accuracy')\n",
    "plt.xlabel('Epoch')\n",
    "plt.title('MLP: Loss and Val Accuracy per epoch')\n",
    "plt.legend()\n",
    "plt.show()"
   ]
  },
  {
   "cell_type": "markdown",
   "metadata": {},
   "source": [
    "## UNSUPERVISED LEARNING"
   ]
  },
  {
   "cell_type": "markdown",
   "metadata": {},
   "source": [
    "### 7. Impute and scale"
   ]
  },
  {
   "cell_type": "code",
   "execution_count": 45,
   "metadata": {},
   "outputs": [],
   "source": [
    "imputer = SimpleImputer(strategy='median')\n",
    "scaler = RobustScaler()"
   ]
  },
  {
   "cell_type": "code",
   "execution_count": 46,
   "metadata": {},
   "outputs": [],
   "source": [
    "X_imputed = imputer.fit_transform(X)\n",
    "X_scaled = scaler.fit_transform(X_imputed)"
   ]
  },
  {
   "cell_type": "markdown",
   "metadata": {},
   "source": [
    "### 8. Dimensionality Reduction"
   ]
  },
  {
   "cell_type": "markdown",
   "metadata": {},
   "source": [
    "#### a. PCA"
   ]
  },
  {
   "cell_type": "code",
   "execution_count": 48,
   "metadata": {},
   "outputs": [],
   "source": [
    "pca = PCA(n_components=2)\n",
    "X_pca = pca.fit_transform(X_scaled)"
   ]
  },
  {
   "cell_type": "code",
   "execution_count": 50,
   "metadata": {},
   "outputs": [
    {
     "data": {
      "image/png": "[encoded data removed]",
      "text/plain": [
       "<Figure size 640x480 with 1 Axes>"
      ]
     },
     "metadata": {},
     "output_type": "display_data"
    }
   ],
   "source": [
    "plt.figure()\n",
    "plt.scatter(X_pca[:,0], X_pca[:,1])\n",
    "plt.title('PCA: First 2 components')\n",
    "plt.xlabel('PC1 (%.1f%%)' % (100*pca.explained_variance_ratio_[0]))\n",
    "plt.ylabel('PC2 (%.1f%%)' % (100*pca.explained_variance_ratio_[1]))\n",
    "plt.tight_layout()\n",
    "plt.show()"
   ]
  },
  {
   "cell_type": "markdown",
   "metadata": {},
   "source": [
    "#### b. t-SNE"
   ]
  },
  {
   "cell_type": "code",
   "execution_count": 52,
   "metadata": {},
   "outputs": [],
   "source": [
    "tsne = TSNE(n_components=2, perplexity=10, random_state=0, n_jobs=1)\n",
    "X_tsne = tsne.fit_transform(X_scaled)"
   ]
  },
  {
   "cell_type": "code",
   "execution_count": 53,
   "metadata": {},
   "outputs": [
    {
     "data": {
      "image/png": "[encoded data removed]",
      "text/plain": [
       "<Figure size 640x480 with 1 Axes>"
      ]
     },
     "metadata": {},
     "output_type": "display_data"
    }
   ],
   "source": [
    "plt.figure()\n",
    "plt.scatter(X_tsne[:,0], X_tsne[:,1])\n",
    "plt.title('t-SNE Embedding')\n",
    "plt.xlabel('Dim 1')\n",
    "plt.ylabel('Dim 2')\n",
    "plt.tight_layout()\n",
    "plt.show()"
   ]
  },
  {
   "cell_type": "markdown",
   "metadata": {},
   "source": [
    "### 9. Clustering and Validation"
   ]
  },
  {
   "cell_type": "code",
   "execution_count": 54,
   "metadata": {},
   "outputs": [],
   "source": [
    "def evaluate_clustering(estimator, X_data, name):\n",
    "    labels = estimator.fit_predict(X_data)\n",
    "    sil = silhouette_score(X_data, labels)\n",
    "    ch = calinski_harabasz_score(X_data, labels)\n",
    "    db = davies_bouldin_score(X_data, labels)\n",
    "    print(f\"{name:20s} | Clusters: {len(np.unique(labels))} | Sil: {sil:.2f} | CH: {ch:.1f} | DB: {db:.2f}\")\n",
    "    return labels"
   ]
  },
  {
   "cell_type": "markdown",
   "metadata": {},
   "source": [
    "#### a. K-means"
   ]
  },
  {
   "cell_type": "code",
   "execution_count": 59,
   "metadata": {},
   "outputs": [
    {
     "name": "stdout",
     "output_type": "stream",
     "text": [
      "KMeans K = 2         | Clusters: 2 | Sil: 0.94 | CH: 9948.9 | DB: 0.01\n",
      "KMeans K = 3         | Clusters: 3 | Sil: 0.67 | CH: 10101.7 | DB: 0.11\n",
      "KMeans K = 4         | Clusters: 4 | Sil: 0.49 | CH: 10140.3 | DB: 0.39\n",
      "KMeans K = 5         | Clusters: 5 | Sil: 0.53 | CH: 15391.3 | DB: 0.34\n",
      "KMeans K = 6         | Clusters: 6 | Sil: 0.44 | CH: 14844.3 | DB: 0.18\n",
      "KMeans K = 7         | Clusters: 7 | Sil: 0.16 | CH: 16383.3 | DB: 0.52\n",
      "KMeans K = 8         | Clusters: 8 | Sil: 0.14 | CH: 15273.4 | DB: 0.49\n",
      "KMeans K = 9         | Clusters: 9 | Sil: 0.14 | CH: 15089.7 | DB: 0.52\n",
      "KMeans K = 10        | Clusters: 10 | Sil: 0.11 | CH: 14338.6 | DB: 0.52\n",
      "KMeans K = 11        | Clusters: 11 | Sil: 0.19 | CH: 19756.8 | DB: 0.47\n",
      "KMeans K = 12        | Clusters: 12 | Sil: 0.15 | CH: 18959.9 | DB: 0.49\n",
      "KMeans K = 13        | Clusters: 13 | Sil: 0.10 | CH: 17314.5 | DB: 0.49\n",
      "KMeans K = 14        | Clusters: 14 | Sil: 0.09 | CH: 19251.5 | DB: 0.46\n",
      "KMeans K = 15        | Clusters: 15 | Sil: 0.07 | CH: 18627.8 | DB: 0.44\n",
      "KMeans K = 16        | Clusters: 16 | Sil: 0.10 | CH: 24700.0 | DB: 0.38\n",
      "KMeans K = 17        | Clusters: 17 | Sil: 0.08 | CH: 28103.0 | DB: 0.31\n",
      "KMeans K = 18        | Clusters: 18 | Sil: 0.06 | CH: 31945.4 | DB: 0.25\n",
      "KMeans K = 19        | Clusters: 19 | Sil: 0.03 | CH: 31403.5 | DB: 0.22\n",
      "KMeans K = 20        | Clusters: 20 | Sil: 0.02 | CH: 38446.0 | DB: 0.20\n"
     ]
    }
   ],
   "source": [
    "for k in range(2,21):\n",
    "    km = KMeans(n_clusters=k, random_state=0)\n",
    "    evaluate_clustering(km, X_scaled, f\"KMeans K = {k}\")"
   ]
  },
  {
   "cell_type": "markdown",
   "metadata": {},
   "source": [
    "\"Elbow\" on inertia"
   ]
  },
  {
   "cell_type": "code",
   "execution_count": 74,
   "metadata": {},
   "outputs": [
    {
     "data": {
      "image/png": "[encoded data removed]",
      "text/plain": [
       "<Figure size 640x480 with 1 Axes>"
      ]
     },
     "metadata": {},
     "output_type": "display_data"
    }
   ],
   "source": [
    "inertias = []\n",
    "Ks = range(1, 11)\n",
    "for k in Ks:\n",
    "    km = KMeans(n_clusters=k, random_state=0).fit(X_scaled)\n",
    "    inertias.append(km.inertia_)\n",
    "\n",
    "plt.plot(Ks, inertias, marker='o')\n",
    "plt.xlabel('K')\n",
    "plt.ylabel('Inertia (WSS)')\n",
    "plt.title('Elbow Plot for KMeans')\n",
    "plt.show()"
   ]
  },
  {
   "cell_type": "markdown",
   "metadata": {},
   "source": [
    "#### b. Gaussian Mixture"
   ]
  },
  {
   "cell_type": "code",
   "execution_count": 60,
   "metadata": {},
   "outputs": [
    {
     "name": "stdout",
     "output_type": "stream",
     "text": [
      "GMM K=2              | Sil: 0.94\n",
      "GMM K=3              | Sil: 0.67\n",
      "GMM K=4              | Sil: 0.49\n",
      "GMM K=5              | Sil: 0.53\n",
      "GMM K=6              | Sil: 0.44\n",
      "GMM K=7              | Sil: 0.16\n",
      "GMM K=8              | Sil: 0.14\n",
      "GMM K=9              | Sil: 0.14\n",
      "GMM K=10             | Sil: 0.11\n",
      "GMM K=11             | Sil: 0.19\n",
      "GMM K=12             | Sil: 0.15\n",
      "GMM K=13             | Sil: 0.10\n",
      "GMM K=14             | Sil: 0.09\n",
      "GMM K=15             | Sil: 0.07\n",
      "GMM K=16             | Sil: 0.10\n",
      "GMM K=17             | Sil: 0.08\n",
      "GMM K=18             | Sil: 0.06\n",
      "GMM K=19             | Sil: 0.03\n",
      "GMM K=20             | Sil: 0.02\n"
     ]
    }
   ],
   "source": [
    "for k in range(2,21):\n",
    "    gm = GaussianMixture(n_components=k, random_state=0)\n",
    "    labels = gm.fit_predict(X_scaled)\n",
    "    sil = silhouette_score(X_scaled, labels)\n",
    "    print(f\"{'GMM K='+str(k):20s} | Sil: {sil:.2f}\")"
   ]
  },
  {
   "cell_type": "markdown",
   "metadata": {},
   "source": [
    "#### C. Agglomerative"
   ]
  },
  {
   "cell_type": "code",
   "execution_count": 61,
   "metadata": {},
   "outputs": [
    {
     "name": "stdout",
     "output_type": "stream",
     "text": [
      "Agglomerative K = 2  | Clusters: 2 | Sil: 0.94 | CH: 9948.9 | DB: 0.01\n",
      "Agglomerative K = 3  | Clusters: 3 | Sil: 0.65 | CH: 11463.7 | DB: 0.39\n",
      "Agglomerative K = 4  | Clusters: 4 | Sil: 0.54 | CH: 12387.2 | DB: 0.46\n",
      "Agglomerative K = 5  | Clusters: 5 | Sil: 0.53 | CH: 15391.3 | DB: 0.34\n",
      "Agglomerative K = 6  | Clusters: 6 | Sil: 0.20 | CH: 15085.9 | DB: 0.63\n",
      "Agglomerative K = 7  | Clusters: 7 | Sil: 0.18 | CH: 16539.1 | DB: 0.49\n",
      "Agglomerative K = 8  | Clusters: 8 | Sil: 0.18 | CH: 18592.4 | DB: 0.53\n",
      "Agglomerative K = 9  | Clusters: 9 | Sil: 0.19 | CH: 19018.4 | DB: 0.54\n",
      "Agglomerative K = 10 | Clusters: 10 | Sil: 0.19 | CH: 19092.8 | DB: 0.51\n",
      "Agglomerative K = 11 | Clusters: 11 | Sil: 0.19 | CH: 19756.8 | DB: 0.47\n",
      "Agglomerative K = 12 | Clusters: 12 | Sil: 0.17 | CH: 20412.8 | DB: 0.44\n",
      "Agglomerative K = 13 | Clusters: 13 | Sil: 0.14 | CH: 20925.8 | DB: 0.49\n",
      "Agglomerative K = 14 | Clusters: 14 | Sil: 0.14 | CH: 21816.5 | DB: 0.41\n",
      "Agglomerative K = 15 | Clusters: 15 | Sil: 0.12 | CH: 23218.8 | DB: 0.40\n",
      "Agglomerative K = 16 | Clusters: 16 | Sil: 0.10 | CH: 24700.0 | DB: 0.38\n",
      "Agglomerative K = 17 | Clusters: 17 | Sil: 0.08 | CH: 28103.0 | DB: 0.31\n",
      "Agglomerative K = 18 | Clusters: 18 | Sil: 0.06 | CH: 31945.4 | DB: 0.25\n",
      "Agglomerative K = 19 | Clusters: 19 | Sil: 0.04 | CH: 33118.9 | DB: 0.22\n",
      "Agglomerative K = 20 | Clusters: 20 | Sil: 0.02 | CH: 38446.0 | DB: 0.20\n"
     ]
    }
   ],
   "source": [
    "for k in range(2,21):\n",
    "    ag = AgglomerativeClustering(n_clusters=k)\n",
    "    evaluate_clustering(ag, X_scaled, f\"Agglomerative K = {k}\")"
   ]
  },
  {
   "cell_type": "markdown",
   "metadata": {},
   "source": [
    "#### d. DBSCAN"
   ]
  },
  {
   "cell_type": "code",
   "execution_count": 65,
   "metadata": {},
   "outputs": [],
   "source": [
    "for eps in [0.5, 1.0]:\n",
    "    db = DBSCAN(eps=eps, min_samples=3)\n",
    "    labels = db.fit_predict(X_scaled)\n",
    "    # ignore all noise case\n",
    "    if len(np.unique(labels))>1:\n",
    "        sil = silhouette_score(X_scaled, labels)\n",
    "        print(f\"{'DBSCAN eps='+str(eps):20s} | Sil: {sil:.2f}\")"
   ]
  },
  {
   "cell_type": "markdown",
   "metadata": {},
   "source": [
    "#### e. Hierachical dendogram"
   ]
  },
  {
   "cell_type": "code",
   "execution_count": 72,
   "metadata": {},
   "outputs": [
    {
     "data": {
      "image/png": "[encoded data removed]",
      "text/plain": [
       "<Figure size 640x480 with 1 Axes>"
      ]
     },
     "metadata": {},
     "output_type": "display_data"
    }
   ],
   "source": [
    "linked = linkage(X_scaled, method = 'ward')\n",
    "plt.figure()\n",
    "dendrogram(linked, labels = df['country_id'].tolist(), leaf_rotation=90)\n",
    "plt.title('Hierachical clustering dendogram (Ward)')\n",
    "plt.ylabel('Distance')\n",
    "plt.tight_layout()\n",
    "plt.show()"
   ]
  },
  {
   "cell_type": "code",
   "execution_count": 73,
   "metadata": {},
   "outputs": [
    {
     "data": {
      "image/png": "[encoded data removed]",
      "text/plain": [
       "<Figure size 640x480 with 1 Axes>"
      ]
     },
     "metadata": {},
     "output_type": "display_data"
    }
   ],
   "source": [
    "linked = linkage(X_scaled, method = 'ward')\n",
    "plt.figure()\n",
    "dendrogram(linked, labels = df['country_id'].tolist(), leaf_rotation=90)\n",
    "plt.title('Hierachical clustering dendogram (Ward)')\n",
    "plt.ylabel('Distance')\n",
    "plt.ylim(0,40)\n",
    "plt.tight_layout()\n",
    "plt.show()"
   ]
  },
  {
   "cell_type": "markdown",
   "metadata": {},
   "source": [
    "### 10. Clustering profiling"
   ]
  },
  {
   "cell_type": "code",
   "execution_count": 84,
   "metadata": {},
   "outputs": [
    {
     "name": "stdout",
     "output_type": "stream",
     "text": [
      "Cluster profiles (means):\n",
      "                gdp_growth    gdp_total        gdp_pc  pop_density  \\\n",
      "cluster_kmeans                                                       \n",
      "0                 1.857895  3989.735789  46787.894737   183.052632   \n",
      "1                 0.600000  4190.000000  33960.000000   343.000000   \n",
      "2                 1.000000   303.950000  54160.000000    18.000000   \n",
      "\n",
      "                urban_rate  hsr_per_thousand  rail_per_thousand  hsr_share  \\\n",
      "cluster_kmeans                                                               \n",
      "0                 0.775789          0.055975           0.332717   0.199086   \n",
      "1                 0.920000         23.699004         161.315451   0.146911   \n",
      "2                 0.860000          1.061264           1.059831   1.001352   \n",
      "\n",
      "                gdp_pc_urban_interaction  density_growth_interaction  \n",
      "cluster_kmeans                                                        \n",
      "0                           37722.215789                  258.657895  \n",
      "1                           31243.200000                  205.800000  \n",
      "2                           46577.600000                   18.000000  \n"
     ]
    }
   ],
   "source": [
    "# Chose best K for Kmeans\n",
    "best_k = 3\n",
    "kmeans = KMeans(n_clusters=best_k, random_state=0).fit(X_scaled)\n",
    "df['cluster_kmeans']= kmeans.labels_\n",
    "\n",
    "# profile clusters by mean feature values\n",
    "profile = df.groupby('cluster_kmeans')[features].mean()\n",
    "print('Cluster profiles (means):')\n",
    "print(profile)"
   ]
  },
  {
   "cell_type": "code",
   "execution_count": 85,
   "metadata": {},
   "outputs": [
    {
     "data": {
      "image/png": "[encoded data removed]",
      "text/plain": [
       "<Figure size 640x480 with 1 Axes>"
      ]
     },
     "metadata": {},
     "output_type": "display_data"
    }
   ],
   "source": [
    "# Visualize cluster in PCA space\n",
    "plt.figure()\n",
    "for c in sorted(df['cluster_kmeans'].unique()):\n",
    "    mask = df['cluster_kmeans']==c\n",
    "    plt.scatter(X_pca[mask, 0], X_pca[mask, 1], label=f\"Cluster {c}\")\n",
    "plt.legend()\n",
    "plt.title('KMeans Clusters in PCA space')\n",
    "plt.xlabel('PC1')\n",
    "plt.ylabel('PC2')\n",
    "plt.tight_layout()\n",
    "plt.show()"
   ]
  },
  {
   "cell_type": "code",
   "execution_count": null,
   "metadata": {},
   "outputs": [],
   "source": []
  }
 ],
 "metadata": {
  "kernelspec": {
   "display_name": "Python 3",
   "language": "python",
   "name": "python3"
  },
  "language_info": {
   "codemirror_mode": {
    "name": "ipython",
    "version": 3
   },
   "file_extension": ".py",
   "mimetype": "text/x-python",
   "name": "python",
   "nbconvert_exporter": "python",
   "pygments_lexer": "ipython3",
   "version": "3.13.2"
  }
 },
 "nbformat": 4,
 "nbformat_minor": 2
}
